{
  "nbformat": 4,
  "nbformat_minor": 0,
  "metadata": {
    "colab": {
      "name": "02-HelloPython-function - Jupyter Notebook",
      "provenance": [],
      "collapsed_sections": []
    },
    "kernelspec": {
      "name": "python3",
      "display_name": "Python 3"
    }
  },
  "cells": [
    {
      "cell_type": "markdown",
      "metadata": {
        "id": "OhiLo9HBSCVs"
      },
      "source": [
        "###Python tutorial #2"
      ]
    },
    {
      "cell_type": "markdown",
      "metadata": {
        "id": "nv1zHi1MSGWo"
      },
      "source": [
        "Function & Class 를 학습합니다. 본 페이지는 한림대학교 710231(딥러닝이해및응용) 수업에서 학생들의 Python 학습을 위해 만든 페이지입니다."
      ]
    },
    {
      "cell_type": "code",
      "metadata": {
        "id": "h1uiiyPdSEGP"
      },
      "source": [
        "def hello():\n",
        "  print(\"Hello World\")"
      ],
      "execution_count": null,
      "outputs": []
    },
    {
      "cell_type": "code",
      "metadata": {
        "id": "14ewsc2KSWiZ",
        "outputId": "09c8ffee-ee63-4108-dece-c20b4ccf96dd",
        "colab": {
          "base_uri": "https://localhost:8080/",
          "height": 34
        }
      },
      "source": [
        "hello()"
      ],
      "execution_count": null,
      "outputs": [
        {
          "output_type": "stream",
          "text": [
            "Hello World\n"
          ],
          "name": "stdout"
        }
      ]
    },
    {
      "cell_type": "code",
      "metadata": {
        "id": "-7q-lXn4SXa9"
      },
      "source": [
        "def hello(object):\n",
        "  print(\"Hello \" + object + \"!\")"
      ],
      "execution_count": null,
      "outputs": []
    },
    {
      "cell_type": "code",
      "metadata": {
        "id": "SvN8-3iUSdsh",
        "outputId": "5bc3f568-7d2c-491e-9be5-4ba3c333cec2",
        "colab": {
          "base_uri": "https://localhost:8080/",
          "height": 34
        }
      },
      "source": [
        "hello(\"cat\")"
      ],
      "execution_count": null,
      "outputs": [
        {
          "output_type": "stream",
          "text": [
            "Hello cat!\n"
          ],
          "name": "stdout"
        }
      ]
    },
    {
      "cell_type": "code",
      "metadata": {
        "id": "Z5uII2F2SfAx"
      },
      "source": [
        "def mySum(a,b):\n",
        "  return a+b"
      ],
      "execution_count": null,
      "outputs": []
    },
    {
      "cell_type": "code",
      "metadata": {
        "id": "kImRoJlZSumO",
        "outputId": "5a8a1bcc-33bf-4bb2-84ca-975cc1818243",
        "colab": {
          "base_uri": "https://localhost:8080/",
          "height": 34
        }
      },
      "source": [
        "c=mySum(2,3)\n",
        "print(c)"
      ],
      "execution_count": null,
      "outputs": [
        {
          "output_type": "stream",
          "text": [
            "5\n"
          ],
          "name": "stdout"
        }
      ]
    },
    {
      "cell_type": "code",
      "metadata": {
        "id": "vN9Tj40cS0w9"
      },
      "source": [
        "class Man:\n",
        "  def __init__(self, name):\n",
        "    self.name=name\n",
        "    print(\"Initialized!\")\n",
        "  def hello(self):\n",
        "    print(\"Hello \" + self.name + \" !\")\n",
        "  def goodbye(self):\n",
        "    print(\"Good-bye \" + self.name + \" !\")"
      ],
      "execution_count": null,
      "outputs": []
    },
    {
      "cell_type": "code",
      "metadata": {
        "id": "VLviWMsHTbHz",
        "outputId": "61cdb3bb-5d5f-428a-c367-d75993ec3622",
        "colab": {
          "base_uri": "https://localhost:8080/",
          "height": 34
        }
      },
      "source": [
        "m=Man(\"David\")"
      ],
      "execution_count": null,
      "outputs": [
        {
          "output_type": "stream",
          "text": [
            "Initialized!\n"
          ],
          "name": "stdout"
        }
      ]
    },
    {
      "cell_type": "code",
      "metadata": {
        "id": "g-qbRZVeTeIM",
        "outputId": "add60796-7d50-42de-b77c-d0a8eec6c8ff",
        "colab": {
          "base_uri": "https://localhost:8080/",
          "height": 34
        }
      },
      "source": [
        "m.hello()"
      ],
      "execution_count": null,
      "outputs": [
        {
          "output_type": "stream",
          "text": [
            "Hello David !\n"
          ],
          "name": "stdout"
        }
      ]
    },
    {
      "cell_type": "code",
      "metadata": {
        "id": "Kuk1MehLTiEq",
        "outputId": "3634294e-ddcb-49d4-f27b-7460583ad2d6",
        "colab": {
          "base_uri": "https://localhost:8080/",
          "height": 34
        }
      },
      "source": [
        "m.goodbye()"
      ],
      "execution_count": null,
      "outputs": [
        {
          "output_type": "stream",
          "text": [
            "Good-bye David !\n"
          ],
          "name": "stdout"
        }
      ]
    }
  ]
}