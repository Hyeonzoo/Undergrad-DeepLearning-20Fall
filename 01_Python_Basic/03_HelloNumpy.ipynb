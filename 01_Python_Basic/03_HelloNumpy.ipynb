{
 "cells": [
  {
   "cell_type": "markdown",
   "metadata": {
    "id": "fQYh5I8eDJoM"
   },
   "source": [
    "### Python Numpy Tutorial #1"
   ]
  },
  {
   "cell_type": "markdown",
   "metadata": {
    "id": "ZNNPKM5GUEai"
   },
   "source": [
    "본 페이지는 한림대학교 딥러닝이해및활용(712031) 수업에서 학생들의 Python 학습을 위해 만든 페이지입니다."
   ]
  },
  {
   "cell_type": "markdown",
   "metadata": {
    "id": "1EfH-SIwDPGc"
   },
   "source": [
    "### NumPy"
   ]
  },
  {
   "cell_type": "code",
   "execution_count": 1,
   "metadata": {
    "id": "15h7LIh3DQlP"
   },
   "outputs": [],
   "source": [
    "import numpy as np\n",
    "import matplotlib.pyplot as plt"
   ]
  },
  {
   "cell_type": "markdown",
   "metadata": {
    "id": "cl0jETTLDeZX"
   },
   "source": [
    "### List 형태의 배열"
   ]
  },
  {
   "cell_type": "code",
   "execution_count": 2,
   "metadata": {
    "id": "IZdd3KdfDgyE"
   },
   "outputs": [],
   "source": [
    "a = [1,2,3]"
   ]
  },
  {
   "cell_type": "code",
   "execution_count": 3,
   "metadata": {
    "colab": {
     "base_uri": "https://localhost:8080/",
     "height": 34
    },
    "id": "rgavJFVWDi53",
    "outputId": "b17b86d7-ab2c-4414-add0-37baf9b431db"
   },
   "outputs": [
    {
     "name": "stdout",
     "output_type": "stream",
     "text": [
      "[1, 2, 3]\n"
     ]
    }
   ],
   "source": [
    "print(a)"
   ]
  },
  {
   "cell_type": "code",
   "execution_count": 4,
   "metadata": {
    "colab": {
     "base_uri": "https://localhost:8080/",
     "height": 34
    },
    "id": "JDG601P5ErRZ",
    "outputId": "aec241a7-356c-4ced-ca76-e8687e3cded1"
   },
   "outputs": [
    {
     "data": {
      "text/plain": [
       "(3,)"
      ]
     },
     "execution_count": 4,
     "metadata": {},
     "output_type": "execute_result"
    }
   ],
   "source": [
    "np.shape(a)\n",
    "#numpy가 아닌 array를 shape을 찍을 때는 np.shape()을 사용해야 함\n",
    "#list에서는 a.shape을 하면 에러가 남, list에서 출력해주려면 np를 사용\n",
    "#shape을 표현할때는 () tuple로 표현됨"
   ]
  },
  {
   "cell_type": "markdown",
   "metadata": {
    "id": "3eCt_yT8Dmfm"
   },
   "source": [
    "### Numpy 사용한 배열"
   ]
  },
  {
   "cell_type": "code",
   "execution_count": 5,
   "metadata": {
    "id": "AX9luxdkDoGo"
   },
   "outputs": [],
   "source": [
    "a = np.array([1,2,3])"
   ]
  },
  {
   "cell_type": "code",
   "execution_count": 6,
   "metadata": {
    "colab": {
     "base_uri": "https://localhost:8080/",
     "height": 34
    },
    "id": "V587YdC8DuVM",
    "outputId": "2d5ca5e7-f17a-4a7b-ee39-c0a08dbe10b5"
   },
   "outputs": [
    {
     "name": "stdout",
     "output_type": "stream",
     "text": [
      "[1 2 3]\n"
     ]
    }
   ],
   "source": [
    "print(a)"
   ]
  },
  {
   "cell_type": "code",
   "execution_count": 7,
   "metadata": {
    "colab": {
     "base_uri": "https://localhost:8080/",
     "height": 34
    },
    "id": "GocVOXGIDu43",
    "outputId": "d5bed9b9-a169-4884-992a-c16cf400b413"
   },
   "outputs": [
    {
     "data": {
      "text/plain": [
       "(3,)"
      ]
     },
     "execution_count": 7,
     "metadata": {},
     "output_type": "execute_result"
    }
   ],
   "source": [
    "a.shape #데이터의 출력이 tuple 형태로 출력"
   ]
  },
  {
   "cell_type": "code",
   "execution_count": 8,
   "metadata": {
    "id": "y1rQH0f4ENAo"
   },
   "outputs": [],
   "source": [
    "s = a.shape"
   ]
  },
  {
   "cell_type": "code",
   "execution_count": 9,
   "metadata": {
    "colab": {
     "base_uri": "https://localhost:8080/",
     "height": 52
    },
    "id": "vSW2VCGpEPV0",
    "outputId": "87c38995-7cf4-4efa-b545-9dd7a7cd4a1b"
   },
   "outputs": [
    {
     "name": "stdout",
     "output_type": "stream",
     "text": [
      "s : (3,)\n",
      "s[0] : 3\n"
     ]
    }
   ],
   "source": [
    "print(\"s :\", s)\n",
    "print(\"s[0] :\", s[0])\n",
    "#shape -> tuple로 표현\n",
    "#shape은 못바꾸니까 tuple로 막아둔 것"
   ]
  },
  {
   "cell_type": "code",
   "execution_count": 10,
   "metadata": {
    "colab": {
     "base_uri": "https://localhost:8080/",
     "height": 52
    },
    "id": "OcGV3vIuFDEC",
    "outputId": "8feb8311-48ff-42ba-ca9a-b6dc8f8c7fe0"
   },
   "outputs": [
    {
     "name": "stdout",
     "output_type": "stream",
     "text": [
      "[[1 2 3]\n",
      " [4 5 6]]\n"
     ]
    }
   ],
   "source": [
    "b = np.array([[1,2,3],[4,5,6]]) #rank가 2인 배열 생성(2차원 배열 생성)\n",
    "print(b)"
   ]
  },
  {
   "cell_type": "code",
   "execution_count": 11,
   "metadata": {
    "colab": {
     "base_uri": "https://localhost:8080/",
     "height": 34
    },
    "id": "XZWx4bVrEj_f",
    "outputId": "11fa7572-8c35-4511-fb93-a40106cf6174"
   },
   "outputs": [
    {
     "name": "stdout",
     "output_type": "stream",
     "text": [
      "(2, 3)\n"
     ]
    }
   ],
   "source": [
    "print(b.shape) #출력 \"(2,3)\" 행x열"
   ]
  },
  {
   "cell_type": "code",
   "execution_count": 12,
   "metadata": {
    "colab": {
     "base_uri": "https://localhost:8080/",
     "height": 34
    },
    "id": "ETRSDrwYFIww",
    "outputId": "385965a6-fbb0-4509-8d95-b66c2c29d8b4"
   },
   "outputs": [
    {
     "name": "stdout",
     "output_type": "stream",
     "text": [
      "1 2 4\n"
     ]
    }
   ],
   "source": [
    "print(b[0,0], b[0,1], b[1,0])  #출력 \"1 2 4\""
   ]
  },
  {
   "cell_type": "code",
   "execution_count": 13,
   "metadata": {
    "colab": {
     "base_uri": "https://localhost:8080/",
     "height": 34
    },
    "id": "ADhlRt3ZFqtk",
    "outputId": "e2a64ae3-5616-448c-ff31-c92bb9e9c02b"
   },
   "outputs": [
    {
     "name": "stdout",
     "output_type": "stream",
     "text": [
      "6\n"
     ]
    }
   ],
   "source": [
    "print(b[1,2])"
   ]
  },
  {
   "cell_type": "markdown",
   "metadata": {
    "id": "2gnYHZ1xFRT6"
   },
   "source": [
    "### Axis / axes (축)"
   ]
  },
  {
   "cell_type": "markdown",
   "metadata": {
    "id": "z_3zTEwOFboB"
   },
   "source": [
    "*   the nth coordinate to index an array in Numpy.\n",
    "*   multidimensional arrays can have one index per axis\n"
   ]
  },
  {
   "cell_type": "code",
   "execution_count": 14,
   "metadata": {
    "colab": {
     "base_uri": "https://localhost:8080/",
     "height": 52
    },
    "id": "APprHDbUFg47",
    "outputId": "21a12e63-fb0a-4724-d09e-a8fe66ee7b99"
   },
   "outputs": [
    {
     "name": "stdout",
     "output_type": "stream",
     "text": [
      "[[1 2]\n",
      " [3 4]]\n"
     ]
    }
   ],
   "source": [
    "a = np.array([[1,2],[3,4]])\n",
    "print(a)"
   ]
  },
  {
   "cell_type": "markdown",
   "metadata": {
    "id": "rIjAp2xKHM91"
   },
   "source": [
    "Axis를 지정하지 않으면 전체 평균을 구하게 됨"
   ]
  },
  {
   "cell_type": "code",
   "execution_count": 15,
   "metadata": {
    "colab": {
     "base_uri": "https://localhost:8080/",
     "height": 34
    },
    "id": "60_RoMKzHOJx",
    "outputId": "f9f6347d-a979-4c64-fee4-a43594e225df"
   },
   "outputs": [
    {
     "data": {
      "text/plain": [
       "2.5"
      ]
     },
     "execution_count": 15,
     "metadata": {},
     "output_type": "execute_result"
    }
   ],
   "source": [
    "np.mean(a)"
   ]
  },
  {
   "cell_type": "markdown",
   "metadata": {
    "id": "D1JqJL3qHVOS"
   },
   "source": [
    "Axis 0 방향 (↓)"
   ]
  },
  {
   "cell_type": "code",
   "execution_count": 16,
   "metadata": {
    "colab": {
     "base_uri": "https://localhost:8080/",
     "height": 34
    },
    "id": "7_UGrdUYHWWu",
    "outputId": "c363e142-eab4-4533-92b1-94d69a4c32b5"
   },
   "outputs": [
    {
     "data": {
      "text/plain": [
       "array([2., 3.])"
      ]
     },
     "execution_count": 16,
     "metadata": {},
     "output_type": "execute_result"
    }
   ],
   "source": [
    "np.mean(a, axis=0)"
   ]
  },
  {
   "cell_type": "code",
   "execution_count": 17,
   "metadata": {
    "colab": {
     "base_uri": "https://localhost:8080/",
     "height": 34
    },
    "id": "rFivXjMNHZhT",
    "outputId": "4bab2ff8-5242-48ad-fa9b-b1b78e8e2d85"
   },
   "outputs": [
    {
     "data": {
      "text/plain": [
       "array([4, 6])"
      ]
     },
     "execution_count": 17,
     "metadata": {},
     "output_type": "execute_result"
    }
   ],
   "source": [
    "np.sum(a, axis=0)"
   ]
  },
  {
   "cell_type": "markdown",
   "metadata": {
    "id": "obA5ooy4HjQl"
   },
   "source": [
    "Axis 1 방향 (→)"
   ]
  },
  {
   "cell_type": "code",
   "execution_count": 18,
   "metadata": {
    "colab": {
     "base_uri": "https://localhost:8080/",
     "height": 34
    },
    "id": "0eBod26SHlVZ",
    "outputId": "6bc1af60-6894-4987-bf01-0c7e7f0afea1"
   },
   "outputs": [
    {
     "data": {
      "text/plain": [
       "array([1.5, 3.5])"
      ]
     },
     "execution_count": 18,
     "metadata": {},
     "output_type": "execute_result"
    }
   ],
   "source": [
    "np.mean(a, axis=1)"
   ]
  },
  {
   "cell_type": "code",
   "execution_count": 19,
   "metadata": {
    "colab": {
     "base_uri": "https://localhost:8080/",
     "height": 34
    },
    "id": "O7yax7-xIEX1",
    "outputId": "316f7c9b-5e76-454a-f8f0-1e59eb5c7e32"
   },
   "outputs": [
    {
     "data": {
      "text/plain": [
       "array([3, 7])"
      ]
     },
     "execution_count": 19,
     "metadata": {},
     "output_type": "execute_result"
    }
   ],
   "source": [
    "np.sum(a, axis=1)"
   ]
  },
  {
   "cell_type": "markdown",
   "metadata": {
    "id": "38xPx9gnIHuf"
   },
   "source": [
    "### Broadcast"
   ]
  },
  {
   "cell_type": "markdown",
   "metadata": {
    "id": "_PBIJ9Y0IMWO"
   },
   "source": [
    "넘파이에서 형상이 다른 배열을 계산하기 위해서 지원하는 기능 (without explicit for-loop)"
   ]
  },
  {
   "cell_type": "code",
   "execution_count": 20,
   "metadata": {
    "colab": {
     "base_uri": "https://localhost:8080/",
     "height": 70
    },
    "id": "apMthemSIMs5",
    "outputId": "4c4315b8-a28f-45b0-c2a9-05acd8bd5a75"
   },
   "outputs": [
    {
     "name": "stdout",
     "output_type": "stream",
     "text": [
      "[[ 56.    0.    4.   68. ]\n",
      " [  1.2 104.   52.    8. ]\n",
      " [  1.8 135.   99.    0.9]]\n"
     ]
    }
   ],
   "source": [
    "A = np.array([[56.0, 0.0, 4.0, 68.0],\n",
    " [1.2, 104.0, 52.0, 8.0],\n",
    " [1.8, 135.0, 99.0, 0.9]])\n",
    "print(A)"
   ]
  },
  {
   "cell_type": "code",
   "execution_count": 21,
   "metadata": {
    "colab": {
     "base_uri": "https://localhost:8080/",
     "height": 34
    },
    "id": "a0_CnS66IQQw",
    "outputId": "344dcba3-5836-43bf-903a-d0c84212a5c5"
   },
   "outputs": [
    {
     "name": "stdout",
     "output_type": "stream",
     "text": [
      "[ 59.  239.  155.   76.9]\n"
     ]
    }
   ],
   "source": [
    "cal = A.sum(axis=0)\n",
    "print(cal)"
   ]
  },
  {
   "cell_type": "code",
   "execution_count": 22,
   "metadata": {
    "colab": {
     "base_uri": "https://localhost:8080/",
     "height": 70
    },
    "id": "6tOEIeC_IVUp",
    "outputId": "691003fe-d4ca-48e5-f505-5c1bb186f810"
   },
   "outputs": [
    {
     "name": "stdout",
     "output_type": "stream",
     "text": [
      "[[94.91525424  0.          2.58064516 88.42652796]\n",
      " [ 2.03389831 43.51464435 33.5483871  10.40312094]\n",
      " [ 3.05084746 56.48535565 63.87096774  1.17035111]]\n"
     ]
    }
   ],
   "source": [
    "percentage = 100* A / cal #.reshape(1,4)\n",
    "print(percentage)"
   ]
  },
  {
   "cell_type": "markdown",
   "metadata": {
    "id": "0BQJopDCJ8ao"
   },
   "source": [
    "### Stack"
   ]
  },
  {
   "cell_type": "code",
   "execution_count": 23,
   "metadata": {
    "id": "3XCZdNTvJ9sj"
   },
   "outputs": [],
   "source": [
    "a = np.array([1,2,3,4])\n",
    "b = np.array([5,6,7,8])"
   ]
  },
  {
   "cell_type": "markdown",
   "metadata": {
    "id": "Bxw39YWUKEIW"
   },
   "source": [
    "\n",
    "\n",
    "*   세로로 쌓기\n",
    "\n"
   ]
  },
  {
   "cell_type": "code",
   "execution_count": 24,
   "metadata": {
    "colab": {
     "base_uri": "https://localhost:8080/",
     "height": 70
    },
    "id": "ohOyfGnPKGRV",
    "outputId": "477e2168-4b96-4372-8597-01f793ac5df9"
   },
   "outputs": [
    {
     "name": "stdout",
     "output_type": "stream",
     "text": [
      "[[1 2 3 4]\n",
      " [5 6 7 8]]\n",
      "(2, 4)\n"
     ]
    }
   ],
   "source": [
    "c = np.vstack((a,b))\n",
    "print(c)\n",
    "print(c.shape)"
   ]
  },
  {
   "cell_type": "markdown",
   "metadata": {
    "id": "8pSbZmh_KK9x"
   },
   "source": [
    "\n",
    "\n",
    "*   가로로 쌓기\n",
    "\n"
   ]
  },
  {
   "cell_type": "code",
   "execution_count": 25,
   "metadata": {
    "colab": {
     "base_uri": "https://localhost:8080/",
     "height": 52
    },
    "id": "YLZwZCIDKMYV",
    "outputId": "0ebc2844-7cde-433d-e3bc-c2ff980062bd"
   },
   "outputs": [
    {
     "name": "stdout",
     "output_type": "stream",
     "text": [
      "[1 2 3 4 5 6 7 8]\n",
      "(8,)\n"
     ]
    }
   ],
   "source": [
    "d = np.hstack((a,b))\n",
    "print(d)\n",
    "print(d.shape)"
   ]
  },
  {
   "cell_type": "markdown",
   "metadata": {},
   "source": [
    "### zeros_like & ones_like"
   ]
  },
  {
   "cell_type": "code",
   "execution_count": 26,
   "metadata": {},
   "outputs": [
    {
     "data": {
      "text/plain": [
       "array([[0, 0, 0, 0],\n",
       "       [0, 0, 0, 0]])"
      ]
     },
     "execution_count": 26,
     "metadata": {},
     "output_type": "execute_result"
    }
   ],
   "source": [
    "np.zeros_like(c)"
   ]
  },
  {
   "cell_type": "code",
   "execution_count": 27,
   "metadata": {},
   "outputs": [
    {
     "data": {
      "text/plain": [
       "array([[1, 1, 1, 1],\n",
       "       [1, 1, 1, 1]])"
      ]
     },
     "execution_count": 27,
     "metadata": {},
     "output_type": "execute_result"
    }
   ],
   "source": [
    "np.ones_like(c)"
   ]
  },
  {
   "cell_type": "markdown",
   "metadata": {
    "id": "pc5tHTaDKVcg"
   },
   "source": [
    "### 형변환"
   ]
  },
  {
   "cell_type": "code",
   "execution_count": 28,
   "metadata": {
    "colab": {
     "base_uri": "https://localhost:8080/",
     "height": 34
    },
    "id": "UqAo4CmPKWnN",
    "outputId": "5aba7037-e6ae-474f-f9af-7ab40bda412a"
   },
   "outputs": [
    {
     "name": "stdout",
     "output_type": "stream",
     "text": [
      "[False  True  True]\n"
     ]
    }
   ],
   "source": [
    "x = np.array([-2.0, 1.2, 3.7])\n",
    "y = x > 0\n",
    "print(y)"
   ]
  },
  {
   "cell_type": "code",
   "execution_count": 29,
   "metadata": {
    "colab": {
     "base_uri": "https://localhost:8080/",
     "height": 34
    },
    "id": "gqLa7ykNV-nX",
    "outputId": "67c5bb38-6071-4bf9-ccdc-f08aebc09974"
   },
   "outputs": [
    {
     "data": {
      "text/plain": [
       "numpy.bool_"
      ]
     },
     "execution_count": 29,
     "metadata": {},
     "output_type": "execute_result"
    }
   ],
   "source": [
    "type(y[0]) #참/거짓 -> boolean 형태 (bool)"
   ]
  },
  {
   "cell_type": "markdown",
   "metadata": {
    "id": "0u1Qumzpuf2u"
   },
   "source": [
    "데이터 타입 바꾸기\n",
    "object.astype(np.Type)"
   ]
  },
  {
   "cell_type": "code",
   "execution_count": 30,
   "metadata": {
    "colab": {
     "base_uri": "https://localhost:8080/",
     "height": 52
    },
    "id": "nOMxq5bEKYj4",
    "outputId": "00fcda65-88fe-4e24-88db-4f6fae66ba30"
   },
   "outputs": [
    {
     "name": "stdout",
     "output_type": "stream",
     "text": [
      "[0 1 1]\n"
     ]
    },
    {
     "data": {
      "text/plain": [
       "array([0, 1, 1])"
      ]
     },
     "execution_count": 30,
     "metadata": {},
     "output_type": "execute_result"
    }
   ],
   "source": [
    "y = y.astype(np.int)\n",
    "print(y)\n",
    "y"
   ]
  },
  {
   "cell_type": "code",
   "execution_count": 31,
   "metadata": {
    "colab": {
     "base_uri": "https://localhost:8080/",
     "height": 34
    },
    "id": "OF-yI4PQWPJu",
    "outputId": "18c2e8e5-6f6d-45ed-c849-acec757fa844"
   },
   "outputs": [
    {
     "data": {
      "text/plain": [
       "numpy.int64"
      ]
     },
     "execution_count": 31,
     "metadata": {},
     "output_type": "execute_result"
    }
   ],
   "source": [
    "type(y[0]) #정수 -> integer 형태 (int) #64 (long) 데이터의 큰 숫자를 저장 할 수 있음"
   ]
  },
  {
   "cell_type": "code",
   "execution_count": 32,
   "metadata": {
    "colab": {
     "base_uri": "https://localhost:8080/",
     "height": 34
    },
    "id": "fpTtbMciLYm0",
    "outputId": "d11103a4-70fd-4a4a-f4ab-760363ca6e0b"
   },
   "outputs": [
    {
     "data": {
      "text/plain": [
       "2"
      ]
     },
     "execution_count": 32,
     "metadata": {},
     "output_type": "execute_result"
    }
   ],
   "source": [
    "np.sum(y) #ture인 값 더해서 출력"
   ]
  },
  {
   "cell_type": "markdown",
   "metadata": {
    "id": "rPnr4omIKczd"
   },
   "source": [
    "### Nosie"
   ]
  },
  {
   "cell_type": "code",
   "execution_count": 33,
   "metadata": {
    "id": "so7yBt0kKeWf"
   },
   "outputs": [],
   "source": [
    "x = np.arange(0, 6, 0.1) # 0에서 6까지 0.1 간격으로 생성\n",
    "y = np.sin(x)"
   ]
  },
  {
   "cell_type": "code",
   "execution_count": 34,
   "metadata": {
    "colab": {
     "base_uri": "https://localhost:8080/",
     "height": 105
    },
    "id": "-hQr_KPVLoI8",
    "outputId": "43835a12-f850-4ef5-b2b2-67ba6a37bc77"
   },
   "outputs": [
    {
     "data": {
      "text/plain": [
       "array([0. , 0.1, 0.2, 0.3, 0.4, 0.5, 0.6, 0.7, 0.8, 0.9, 1. , 1.1, 1.2,\n",
       "       1.3, 1.4, 1.5, 1.6, 1.7, 1.8, 1.9, 2. , 2.1, 2.2, 2.3, 2.4, 2.5,\n",
       "       2.6, 2.7, 2.8, 2.9, 3. , 3.1, 3.2, 3.3, 3.4, 3.5, 3.6, 3.7, 3.8,\n",
       "       3.9, 4. , 4.1, 4.2, 4.3, 4.4, 4.5, 4.6, 4.7, 4.8, 4.9, 5. , 5.1,\n",
       "       5.2, 5.3, 5.4, 5.5, 5.6, 5.7, 5.8, 5.9])"
      ]
     },
     "execution_count": 34,
     "metadata": {},
     "output_type": "execute_result"
    }
   ],
   "source": [
    "x"
   ]
  },
  {
   "cell_type": "code",
   "execution_count": 35,
   "metadata": {
    "colab": {
     "base_uri": "https://localhost:8080/",
     "height": 230
    },
    "id": "fEECFiwdKgEC",
    "outputId": "d3f36c44-4875-4b49-e8a7-136c7829fa62"
   },
   "outputs": [
    {
     "data": {
      "text/plain": [
       "array([ 0.        ,  0.09983342,  0.19866933,  0.29552021,  0.38941834,\n",
       "        0.47942554,  0.56464247,  0.64421769,  0.71735609,  0.78332691,\n",
       "        0.84147098,  0.89120736,  0.93203909,  0.96355819,  0.98544973,\n",
       "        0.99749499,  0.9995736 ,  0.99166481,  0.97384763,  0.94630009,\n",
       "        0.90929743,  0.86320937,  0.8084964 ,  0.74570521,  0.67546318,\n",
       "        0.59847214,  0.51550137,  0.42737988,  0.33498815,  0.23924933,\n",
       "        0.14112001,  0.04158066, -0.05837414, -0.15774569, -0.2555411 ,\n",
       "       -0.35078323, -0.44252044, -0.52983614, -0.61185789, -0.68776616,\n",
       "       -0.7568025 , -0.81827711, -0.87157577, -0.91616594, -0.95160207,\n",
       "       -0.97753012, -0.993691  , -0.99992326, -0.99616461, -0.98245261,\n",
       "       -0.95892427, -0.92581468, -0.88345466, -0.83226744, -0.77276449,\n",
       "       -0.70554033, -0.63126664, -0.55068554, -0.46460218, -0.37387666])"
      ]
     },
     "execution_count": 35,
     "metadata": {},
     "output_type": "execute_result"
    }
   ],
   "source": [
    "y"
   ]
  },
  {
   "cell_type": "code",
   "execution_count": 36,
   "metadata": {
    "colab": {
     "base_uri": "https://localhost:8080/",
     "height": 34
    },
    "id": "9xvTXKIyvKkL",
    "outputId": "762ad6a0-6198-4da1-e01b-421d0ee8677d"
   },
   "outputs": [
    {
     "data": {
      "text/plain": [
       "(60,)"
      ]
     },
     "execution_count": 36,
     "metadata": {},
     "output_type": "execute_result"
    }
   ],
   "source": [
    "y.shape\n",
    "#y.shape => (n,m)"
   ]
  },
  {
   "cell_type": "code",
   "execution_count": 37,
   "metadata": {
    "colab": {
     "base_uri": "https://localhost:8080/",
     "height": 34
    },
    "id": "mstlWCGLvPiO",
    "outputId": "192ac4e5-2e06-475b-82a5-ce2432370d72"
   },
   "outputs": [
    {
     "data": {
      "text/plain": [
       "60"
      ]
     },
     "execution_count": 37,
     "metadata": {},
     "output_type": "execute_result"
    }
   ],
   "source": [
    "y.shape[0]\n",
    "#y.shape[0] => n"
   ]
  },
  {
   "cell_type": "code",
   "execution_count": 38,
   "metadata": {
    "colab": {
     "base_uri": "https://localhost:8080/",
     "height": 34
    },
    "id": "evz4zDXcKiE_",
    "outputId": "12739d2f-8a86-4534-b21e-bcf6b4913e61"
   },
   "outputs": [
    {
     "name": "stdout",
     "output_type": "stream",
     "text": [
      "60\n"
     ]
    }
   ],
   "source": [
    "signal_length = y.shape[0] \n",
    "print(signal_length) #60개의 shape이 찍힘"
   ]
  },
  {
   "cell_type": "code",
   "execution_count": 39,
   "metadata": {
    "id": "z3zFLGAyKjmK"
   },
   "outputs": [],
   "source": [
    "noise = np.random.normal(0, 1, signal_length)\n",
    "#정규분포(np.random.normal), 평균: 0, 표준편차: 1\n",
    "y2 = y + 0.2* noise #0.2정도 스케일을 낮춰서 noise를 더함"
   ]
  },
  {
   "cell_type": "code",
   "execution_count": 40,
   "metadata": {
    "colab": {
     "base_uri": "https://localhost:8080/",
     "height": 34
    },
    "id": "V9rNF-OdNOyA",
    "outputId": "073e367b-27f5-4dde-96e6-06cae32174cf"
   },
   "outputs": [
    {
     "data": {
      "text/plain": [
       "-0.11515045856413901"
      ]
     },
     "execution_count": 40,
     "metadata": {},
     "output_type": "execute_result"
    }
   ],
   "source": [
    "np.mean(noise) #평균을 0으로 잡았으니 0에 가까운 값이 나옴"
   ]
  },
  {
   "cell_type": "code",
   "execution_count": 41,
   "metadata": {
    "colab": {
     "base_uri": "https://localhost:8080/",
     "height": 34
    },
    "id": "iYH3Ib_tNU8z",
    "outputId": "32f23cfe-f349-488c-9292-ec757f56fcab"
   },
   "outputs": [
    {
     "data": {
      "text/plain": [
       "0.8287065320805067"
      ]
     },
     "execution_count": 41,
     "metadata": {},
     "output_type": "execute_result"
    }
   ],
   "source": [
    "np.std(noise) #표준편차를 1로 잡았으니 1에 가까운 값이 나옴"
   ]
  },
  {
   "cell_type": "markdown",
   "metadata": {
    "id": "WRLvj2ErKosy"
   },
   "source": [
    "\n",
    "\n",
    "*   참고 np.random.normal : random samples from a normal (Gaussian) distrubution\n",
    "\n"
   ]
  },
  {
   "cell_type": "code",
   "execution_count": 42,
   "metadata": {
    "colab": {
     "base_uri": "https://localhost:8080/",
     "height": 282
    },
    "id": "K2TKZIkdKsdS",
    "outputId": "4d84dd95-7507-453a-e6a8-5a6e9a29e94b"
   },
   "outputs": [
    {
     "data": {
      "text/plain": [
       "[<matplotlib.lines.Line2D at 0x7f8f2efa72b0>]"
      ]
     },
     "execution_count": 42,
     "metadata": {},
     "output_type": "execute_result"
    },
    {
     "data": {
      "image/png": "[encoded data removed]",
      "text/plain": [
       "<Figure size 432x288 with 1 Axes>"
      ]
     },
     "metadata": {
      "needs_background": "light"
     },
     "output_type": "display_data"
    }
   ],
   "source": [
    "plt.plot(x, y)\n",
    "#plt.plot(x, y, '.-') #data point마다 점을 찍어줌\n",
    "plt.plot(x, y2) #noise\n",
    "#plt.show()"
   ]
  },
  {
   "cell_type": "markdown",
   "metadata": {
    "id": "vfenCi6OKvFu"
   },
   "source": [
    "### 배열 형태 (shape) 변환"
   ]
  },
  {
   "cell_type": "code",
   "execution_count": 43,
   "metadata": {
    "colab": {
     "base_uri": "https://localhost:8080/",
     "height": 283
    },
    "id": "KhtJEnOMKxrf",
    "outputId": "858fae59-a1d5-4962-87f7-c4c9008ec322"
   },
   "outputs": [
    {
     "name": "stdout",
     "output_type": "stream",
     "text": [
      "[[[0.17141982 0.24076026]\n",
      "  [0.29362974 0.46827738]\n",
      "  [0.12698157 0.14789558]]\n",
      "\n",
      " [[0.56077055 0.32920789]\n",
      "  [0.17276313 0.87825217]\n",
      "  [0.30450929 0.87975373]]\n",
      "\n",
      " [[0.19526328 0.08548178]\n",
      "  [0.83034698 0.23455569]\n",
      "  [0.68257175 0.02008144]]\n",
      "\n",
      " [[0.78603703 0.54609231]\n",
      "  [0.60292493 0.63562976]\n",
      "  [0.55175768 0.51016036]]]\n"
     ]
    }
   ],
   "source": [
    "A = np.random.rand(4, 3, 2) #4*3*2 = 24 #(3,2)배열을 4개로 만듦\n",
    "print(A)"
   ]
  },
  {
   "cell_type": "code",
   "execution_count": 44,
   "metadata": {
    "colab": {
     "base_uri": "https://localhost:8080/",
     "height": 34
    },
    "id": "CaMDMwkbOSGl",
    "outputId": "ce122705-5ce1-4bb7-f9d2-798aa0834dc0"
   },
   "outputs": [
    {
     "data": {
      "text/plain": [
       "(4, 3, 2)"
      ]
     },
     "execution_count": 44,
     "metadata": {},
     "output_type": "execute_result"
    }
   ],
   "source": [
    "A.shape"
   ]
  },
  {
   "cell_type": "code",
   "execution_count": 45,
   "metadata": {
    "colab": {
     "base_uri": "https://localhost:8080/",
     "height": 70
    },
    "id": "mw8wfxeDOWkO",
    "outputId": "eee60316-0977-4f33-e91a-b0cab7271cd9"
   },
   "outputs": [
    {
     "data": {
      "text/plain": [
       "array([[0.17141982, 0.24076026],\n",
       "       [0.29362974, 0.46827738],\n",
       "       [0.12698157, 0.14789558]])"
      ]
     },
     "execution_count": 45,
     "metadata": {},
     "output_type": "execute_result"
    }
   ],
   "source": [
    "A[0]"
   ]
  },
  {
   "cell_type": "code",
   "execution_count": 46,
   "metadata": {
    "colab": {
     "base_uri": "https://localhost:8080/",
     "height": 34
    },
    "id": "RdyUGd3-Od4X",
    "outputId": "d4b54d2f-11c0-4025-dfa6-4b12a9a321b0"
   },
   "outputs": [
    {
     "data": {
      "text/plain": [
       "(3, 2)"
      ]
     },
     "execution_count": 46,
     "metadata": {},
     "output_type": "execute_result"
    }
   ],
   "source": [
    "A[0].shape"
   ]
  },
  {
   "cell_type": "code",
   "execution_count": 47,
   "metadata": {
    "colab": {
     "base_uri": "https://localhost:8080/",
     "height": 230
    },
    "id": "LYMpNEwGKzbe",
    "outputId": "3958083e-3bd1-46ff-fc43-953a7e278bbe"
   },
   "outputs": [
    {
     "name": "stdout",
     "output_type": "stream",
     "text": [
      "[[0.17141982 0.24076026]\n",
      " [0.29362974 0.46827738]\n",
      " [0.12698157 0.14789558]\n",
      " [0.56077055 0.32920789]\n",
      " [0.17276313 0.87825217]\n",
      " [0.30450929 0.87975373]\n",
      " [0.19526328 0.08548178]\n",
      " [0.83034698 0.23455569]\n",
      " [0.68257175 0.02008144]\n",
      " [0.78603703 0.54609231]\n",
      " [0.60292493 0.63562976]\n",
      " [0.55175768 0.51016036]]\n"
     ]
    }
   ],
   "source": [
    "A = A.reshape(12, 2)\n",
    "print(A)"
   ]
  },
  {
   "cell_type": "code",
   "execution_count": 48,
   "metadata": {
    "colab": {
     "base_uri": "https://localhost:8080/",
     "height": 247
    },
    "id": "vUa6SF7xPJMT",
    "outputId": "e2934259-2561-47e2-aca0-f8f6f6ef2d4e"
   },
   "outputs": [
    {
     "name": "stdout",
     "output_type": "stream",
     "text": [
      "[[0.17141982 0.24076026]\n",
      " [0.29362974 0.46827738]\n",
      " [0.12698157 0.14789558]\n",
      " [0.56077055 0.32920789]\n",
      " [0.17276313 0.87825217]\n",
      " [0.30450929 0.87975373]\n",
      " [0.19526328 0.08548178]\n",
      " [0.83034698 0.23455569]\n",
      " [0.68257175 0.02008144]\n",
      " [0.78603703 0.54609231]\n",
      " [0.60292493 0.63562976]\n",
      " [0.55175768 0.51016036]]\n",
      "(12, 2)\n"
     ]
    }
   ],
   "source": [
    "A = A.reshape(-1, 2) #-1(끝에) = 12\n",
    "print(A)\n",
    "print(A.shape)"
   ]
  },
  {
   "cell_type": "code",
   "execution_count": 49,
   "metadata": {
    "colab": {
     "base_uri": "https://localhost:8080/",
     "height": 247
    },
    "id": "zMvSosc1XIHh",
    "outputId": "32afdd88-c3cd-4a9b-8f03-82581a7e08ce"
   },
   "outputs": [
    {
     "name": "stdout",
     "output_type": "stream",
     "text": [
      "[[[[0.17141982 0.24076026]\n",
      "   [0.29362974 0.46827738]\n",
      "   [0.12698157 0.14789558]\n",
      "   [0.56077055 0.32920789]\n",
      "   [0.17276313 0.87825217]\n",
      "   [0.30450929 0.87975373]\n",
      "   [0.19526328 0.08548178]\n",
      "   [0.83034698 0.23455569]\n",
      "   [0.68257175 0.02008144]\n",
      "   [0.78603703 0.54609231]\n",
      "   [0.60292493 0.63562976]\n",
      "   [0.55175768 0.51016036]]]]\n",
      "(1, 1, 12, 2)\n"
     ]
    }
   ],
   "source": [
    "A = A.reshape(1,1,-1,2) #4차원 reshape(?)\n",
    "print(A)\n",
    "print(A.shape)"
   ]
  },
  {
   "cell_type": "markdown",
   "metadata": {
    "id": "6c4khE4ZK9L7"
   },
   "source": [
    "### 1차원 변환 ravel() vs. reshape() vs. flatten()"
   ]
  },
  {
   "cell_type": "markdown",
   "metadata": {
    "id": "AqtcKL5MY5vl"
   },
   "source": [
    "https://m.blog.naver.com/wideeyed/221533365486"
   ]
  },
  {
   "cell_type": "markdown",
   "metadata": {
    "id": "1R2RU0sXK_0a"
   },
   "source": [
    "\n",
    "\n",
    "*   다차원 배열을 1차원으로 바꾸는 것\n",
    "\n"
   ]
  },
  {
   "cell_type": "code",
   "execution_count": 50,
   "metadata": {
    "colab": {
     "base_uri": "https://localhost:8080/",
     "height": 34
    },
    "id": "3bQUWNTpK-zf",
    "outputId": "da545a1b-fdab-45dc-d10d-555110f71d22"
   },
   "outputs": [
    {
     "name": "stdout",
     "output_type": "stream",
     "text": [
      "(24,)\n"
     ]
    }
   ],
   "source": [
    "B = A.ravel() #reshape(-1)\n",
    "print(B.shape)\n",
    "#ravel()은 원본을 복사하지 않음, 원본 값이 변하면 값이 변경 됨\n",
    "#(ravel(), reshape())"
   ]
  },
  {
   "cell_type": "code",
   "execution_count": 51,
   "metadata": {
    "colab": {
     "base_uri": "https://localhost:8080/",
     "height": 105
    },
    "id": "DHA1CW80P2q2",
    "outputId": "b2535182-1feb-4007-802f-b875b77dba5d"
   },
   "outputs": [
    {
     "data": {
      "text/plain": [
       "array([0.17141982, 0.24076026, 0.29362974, 0.46827738, 0.12698157,\n",
       "       0.14789558, 0.56077055, 0.32920789, 0.17276313, 0.87825217,\n",
       "       0.30450929, 0.87975373, 0.19526328, 0.08548178, 0.83034698,\n",
       "       0.23455569, 0.68257175, 0.02008144, 0.78603703, 0.54609231,\n",
       "       0.60292493, 0.63562976, 0.55175768, 0.51016036])"
      ]
     },
     "execution_count": 51,
     "metadata": {},
     "output_type": "execute_result"
    }
   ],
   "source": [
    "B"
   ]
  },
  {
   "cell_type": "code",
   "execution_count": 52,
   "metadata": {
    "colab": {
     "base_uri": "https://localhost:8080/",
     "height": 230
    },
    "id": "5EUhNeFsX9WE",
    "outputId": "6a903af5-a32a-4e1d-beb6-ba244e2a0fab"
   },
   "outputs": [
    {
     "data": {
      "text/plain": [
       "array([[[[99., 99.],\n",
       "         [99., 99.],\n",
       "         [99., 99.],\n",
       "         [99., 99.],\n",
       "         [99., 99.],\n",
       "         [99., 99.],\n",
       "         [99., 99.],\n",
       "         [99., 99.],\n",
       "         [99., 99.],\n",
       "         [99., 99.],\n",
       "         [99., 99.],\n",
       "         [99., 99.]]]])"
      ]
     },
     "execution_count": 52,
     "metadata": {},
     "output_type": "execute_result"
    }
   ],
   "source": [
    "A[0][0] = 99\n",
    "A"
   ]
  },
  {
   "cell_type": "code",
   "execution_count": 53,
   "metadata": {
    "colab": {
     "base_uri": "https://localhost:8080/",
     "height": 52
    },
    "id": "VzNzoIkQZWSk",
    "outputId": "9636625b-1951-4396-fdbb-f4be3dbd5d28"
   },
   "outputs": [
    {
     "data": {
      "text/plain": [
       "array([99., 99., 99., 99., 99., 99., 99., 99., 99., 99., 99., 99., 99.,\n",
       "       99., 99., 99., 99., 99., 99., 99., 99., 99., 99., 99.])"
      ]
     },
     "execution_count": 53,
     "metadata": {},
     "output_type": "execute_result"
    }
   ],
   "source": [
    "B"
   ]
  },
  {
   "cell_type": "code",
   "execution_count": 54,
   "metadata": {
    "colab": {
     "base_uri": "https://localhost:8080/",
     "height": 34
    },
    "id": "lqS3-V_sLCXe",
    "outputId": "4d1ff2e1-e9e3-419c-9867-7fe5361a3b0e"
   },
   "outputs": [
    {
     "name": "stdout",
     "output_type": "stream",
     "text": [
      "(24,)\n"
     ]
    }
   ],
   "source": [
    "C = A.flatten()\n",
    "print(C.shape)\n",
    "#floatten()은 원본을 복사하여 배열을 만듦, 원본이 수정되지 않음"
   ]
  },
  {
   "cell_type": "code",
   "execution_count": 55,
   "metadata": {
    "colab": {
     "base_uri": "https://localhost:8080/",
     "height": 52
    },
    "id": "BEROj2blQD5u",
    "outputId": "dd73600d-1222-49b3-b55d-daf5ecb8dfe9"
   },
   "outputs": [
    {
     "data": {
      "text/plain": [
       "array([99., 99., 99., 99., 99., 99., 99., 99., 99., 99., 99., 99., 99.,\n",
       "       99., 99., 99., 99., 99., 99., 99., 99., 99., 99., 99.])"
      ]
     },
     "execution_count": 55,
     "metadata": {},
     "output_type": "execute_result"
    }
   ],
   "source": [
    "C"
   ]
  },
  {
   "cell_type": "code",
   "execution_count": 56,
   "metadata": {
    "colab": {
     "base_uri": "https://localhost:8080/",
     "height": 230
    },
    "id": "-J-4u5WtYEw8",
    "outputId": "0d93575e-1ae4-427f-a59c-d518c3eec696"
   },
   "outputs": [
    {
     "data": {
      "text/plain": [
       "array([[[[1., 1.],\n",
       "         [1., 1.],\n",
       "         [1., 1.],\n",
       "         [1., 1.],\n",
       "         [1., 1.],\n",
       "         [1., 1.],\n",
       "         [1., 1.],\n",
       "         [1., 1.],\n",
       "         [1., 1.],\n",
       "         [1., 1.],\n",
       "         [1., 1.],\n",
       "         [1., 1.]]]])"
      ]
     },
     "execution_count": 56,
     "metadata": {},
     "output_type": "execute_result"
    }
   ],
   "source": [
    "A[0][0]=1\n",
    "A"
   ]
  },
  {
   "cell_type": "code",
   "execution_count": 57,
   "metadata": {
    "colab": {
     "base_uri": "https://localhost:8080/",
     "height": 52
    },
    "id": "llnSR9PFbW9K",
    "outputId": "c3ceca65-91d6-4c71-d3b8-98c7a8f43984"
   },
   "outputs": [
    {
     "data": {
      "text/plain": [
       "array([99., 99., 99., 99., 99., 99., 99., 99., 99., 99., 99., 99., 99.,\n",
       "       99., 99., 99., 99., 99., 99., 99., 99., 99., 99., 99.])"
      ]
     },
     "execution_count": 57,
     "metadata": {},
     "output_type": "execute_result"
    }
   ],
   "source": [
    "C"
   ]
  },
  {
   "cell_type": "markdown",
   "metadata": {
    "id": "e_07MMbsLFrE"
   },
   "source": [
    "reshape을 이용한 구현"
   ]
  },
  {
   "cell_type": "code",
   "execution_count": 58,
   "metadata": {
    "colab": {
     "base_uri": "https://localhost:8080/",
     "height": 123
    },
    "id": "-x8_a6dgLMYG",
    "outputId": "2cea5a44-8989-414b-9da1-ff0eddabbb27"
   },
   "outputs": [
    {
     "name": "stdout",
     "output_type": "stream",
     "text": [
      "[[0.11751339 0.36262205 0.21276123 0.28046804]\n",
      " [0.36294835 0.10307929 0.80197618 0.34567102]\n",
      " [0.91716324 0.18978    0.66109208 0.44984372]]\n",
      "[0.11751339 0.36262205 0.21276123 0.28046804 0.36294835 0.10307929\n",
      " 0.80197618 0.34567102 0.91716324 0.18978    0.66109208 0.44984372]\n"
     ]
    },
    {
     "data": {
      "text/plain": [
       "(12,)"
      ]
     },
     "execution_count": 58,
     "metadata": {},
     "output_type": "execute_result"
    }
   ],
   "source": [
    "# YOUR CODE HERE\n",
    "#raise NotImplementedError()\n",
    "import numpy as np\n",
    "\n",
    "test = np.random.rand(3, 2, 2) #3*2*2=12\n",
    "#print(test)\n",
    "#test.shape #(3,2,2)\n",
    "\n",
    "reshape_test = test.reshape(3,4) #3*4=12\n",
    "print(reshape_test)\n",
    "reshape_test.shape #(3,4)\n",
    "\n",
    "ravel_test = reshape_test.ravel()\n",
    "print(ravel_test)\n",
    "ravel_test.shape #(12,)"
   ]
  },
  {
   "cell_type": "markdown",
   "metadata": {
    "id": "YsPs79xVXrDX"
   },
   "source": [
    "### Random"
   ]
  },
  {
   "cell_type": "markdown",
   "metadata": {
    "id": "Hrkp6RY9XuFU"
   },
   "source": [
    "* np.random.randint 균일 분포의 정수 난수 1개 생성\n",
    "* np.random.rand 0부터 1사이의 균일 분포에서 난수 matrix array생성\n",
    "* np.random.randn 가우시안 표준 정규 분포에서 난수 matrix array생성"
   ]
  },
  {
   "cell_type": "code",
   "execution_count": 59,
   "metadata": {
    "colab": {
     "base_uri": "https://localhost:8080/",
     "height": 34
    },
    "id": "yFYP3PnzX4xh",
    "outputId": "f0543484-893f-4c1f-8ffc-49874cf6d55d"
   },
   "outputs": [
    {
     "data": {
      "text/plain": [
       "4"
      ]
     },
     "execution_count": 59,
     "metadata": {},
     "output_type": "execute_result"
    }
   ],
   "source": [
    "np.random.randint(1,10) #1부터 9까지 랜덤숫자 1개"
   ]
  },
  {
   "cell_type": "code",
   "execution_count": 60,
   "metadata": {
    "colab": {
     "base_uri": "https://localhost:8080/",
     "height": 194
    },
    "id": "7SP7YdysYiIZ",
    "outputId": "6232a3a9-87c5-4e9d-eafd-ed7b93d9ea24"
   },
   "outputs": [
    {
     "name": "stdout",
     "output_type": "stream",
     "text": [
      "0 ----- 0\n",
      "1 ----- 0\n",
      "2 ----- 2\n",
      "3 ----- 0\n",
      "4 ----- 0\n",
      "5 ----- 0\n",
      "6 ----- 1\n",
      "7 ----- 1\n",
      "8 ----- 1\n",
      "9 ----- 2\n"
     ]
    }
   ],
   "source": [
    "for i in range(10):\n",
    "  a = np.random.randint(0,3) #0부터 3-1=2까지 랜덤숫자 1개\n",
    "  print(i, '-----', a)"
   ]
  },
  {
   "cell_type": "code",
   "execution_count": 61,
   "metadata": {
    "colab": {
     "base_uri": "https://localhost:8080/",
     "height": 34
    },
    "id": "CTLrzFh1X6_E",
    "outputId": "529657e5-b788-49c9-98df-58c0e8fd4d61"
   },
   "outputs": [
    {
     "data": {
      "text/plain": [
       "array([0.82235636, 0.28613827])"
      ]
     },
     "execution_count": 61,
     "metadata": {},
     "output_type": "execute_result"
    }
   ],
   "source": [
    "np.random.rand(2)"
   ]
  },
  {
   "cell_type": "code",
   "execution_count": 62,
   "metadata": {
    "colab": {
     "base_uri": "https://localhost:8080/",
     "height": 70
    },
    "id": "1fZ1jpQjYF5Q",
    "outputId": "60d74e17-924a-4641-d5b3-65fffeced49e"
   },
   "outputs": [
    {
     "data": {
      "text/plain": [
       "array([[0.87100179, 0.68176596],\n",
       "       [0.63600256, 0.61775846],\n",
       "       [0.87330825, 0.12288222]])"
      ]
     },
     "execution_count": 62,
     "metadata": {},
     "output_type": "execute_result"
    }
   ],
   "source": [
    "np.random.rand(3,2) #array형태로 shape은 (3,2), 0~1사이의 난수 생성"
   ]
  },
  {
   "cell_type": "code",
   "execution_count": 63,
   "metadata": {
    "colab": {
     "base_uri": "https://localhost:8080/",
     "height": 70
    },
    "id": "Kv5MYJt-YJxD",
    "outputId": "ac91e7bb-32fe-476f-c4fa-aad64762608b"
   },
   "outputs": [
    {
     "data": {
      "text/plain": [
       "array([[ 2.85445424,  0.09110064],\n",
       "       [-1.01846382,  1.26580037],\n",
       "       [-0.61960292,  0.42644279]])"
      ]
     },
     "execution_count": 63,
     "metadata": {},
     "output_type": "execute_result"
    }
   ],
   "source": [
    "np.random.randn(3,2) #normal, 정규분포"
   ]
  },
  {
   "cell_type": "markdown",
   "metadata": {
    "id": "U0-HJqcIZKIG"
   },
   "source": [
    "What are all the differences between numpy.random.rand and numpy.random.randn?"
   ]
  },
  {
   "cell_type": "markdown",
   "metadata": {
    "id": "XmijmVOgZeGM"
   },
   "source": [
    "https://stackoverflow.com/a/56829859"
   ]
  },
  {
   "cell_type": "code",
   "execution_count": 64,
   "metadata": {
    "colab": {
     "base_uri": "https://localhost:8080/",
     "height": 544
    },
    "id": "1K3u-RZdZdgx",
    "outputId": "7f709b84-fcfa-4bf6-b882-80485c3d5e5b"
   },
   "outputs": [
    {
     "data": {
      "image/png": "[encoded data removed]",
      "text/plain": [
       "<Figure size 432x288 with 1 Axes>"
      ]
     },
     "metadata": {
      "needs_background": "light"
     },
     "output_type": "display_data"
    },
    {
     "data": {
      "image/png": "[encoded data removed]",
      "text/plain": [
       "<Figure size 432x288 with 1 Axes>"
      ]
     },
     "metadata": {
      "needs_background": "light"
     },
     "output_type": "display_data"
    }
   ],
   "source": [
    "sample_size = 100000\n",
    "uniform = np.random.rand(sample_size)\n",
    "normal = np.random.randn(sample_size)\n",
    "\n",
    "pdf, bins, patches = plt.hist(uniform, bins=20, range=(0, 1), density=True)\n",
    "plt.title('rand: uniform')\n",
    "plt.show()\n",
    "\n",
    "pdf, bins, patches = plt.hist(normal, bins=20, range=(-4, 4), density=True)\n",
    "plt.title('randn: normal')\n",
    "plt.show()"
   ]
  },
  {
   "cell_type": "markdown",
   "metadata": {
    "id": "vAHt2-32ZrbX"
   },
   "source": [
    "* np.random.rand -> 대부분의 난수값들이 비슷한 개수로 뽑혀져 나옴\n",
    "* np.random.randn -> 0 근처의 값들이 많이 나오고 0에서 벗어날수록 난수 발생의 숫자가 적어짐"
   ]
  },
  {
   "cell_type": "markdown",
   "metadata": {
    "id": "2K8gMsLUagUF"
   },
   "source": [
    "### 6 시그마"
   ]
  },
  {
   "cell_type": "markdown",
   "metadata": {
    "id": "bTw5Y-lNajLB"
   },
   "source": [
    "* 가장 중간의 평균을 0으로 맞춰둔 것 -> 정규\n",
    "* 표준편차 -> 시그마 (-1, 0, 1) 이라면 -1, 1이 표준편차인 것 (1 시그마)"
   ]
  },
  {
   "cell_type": "markdown",
   "metadata": {
    "id": "wraWy7SAazF5"
   },
   "source": [
    "![6시그마.PNG](data:image/png;base64,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)"
   ]
  },
  {
   "cell_type": "markdown",
   "metadata": {
    "id": "v7AvSVq4a8j4"
   },
   "source": [
    "즉, 6시그마 -> 6 표준편차, 평균에서 6만큼 더 높은 것"
   ]
  },
  {
   "cell_type": "markdown",
   "metadata": {
    "id": "IjWKvsqXbQdu"
   },
   "source": [
    "### np.random.choice"
   ]
  },
  {
   "cell_type": "code",
   "execution_count": 65,
   "metadata": {
    "id": "4b2KVsg4bJ-0"
   },
   "outputs": [],
   "source": [
    "np.random.seed(0)"
   ]
  },
  {
   "cell_type": "markdown",
   "metadata": {
    "id": "vr-SnR4bbxhn"
   },
   "source": [
    "* seed : 같은 알고리즘을 여러번 실행하더라도 다른 숫자가 나오도록 시작 숫자는 현재 시간 등을 사용해서 매번 바꿔줌\n",
    "\n",
    "* np.random.seed(0) 난수를 예측 가능하게 함\n",
    "\n",
    "* 인수로는 0과 같거나 큰 정수를 넣어줌"
   ]
  },
  {
   "cell_type": "code",
   "execution_count": 66,
   "metadata": {
    "id": "zEWP5VkSbTnY"
   },
   "outputs": [],
   "source": [
    "p = np.array([0.1, 0.0, 0.7, 0.2])"
   ]
  },
  {
   "cell_type": "code",
   "execution_count": 67,
   "metadata": {
    "colab": {
     "base_uri": "https://localhost:8080/",
     "height": 34
    },
    "id": "XlyW_qdmbXOD",
    "outputId": "a03b9e73-f2ff-49f7-cc7c-d36f1903d6ed"
   },
   "outputs": [
    {
     "data": {
      "text/plain": [
       "1.0"
      ]
     },
     "execution_count": 67,
     "metadata": {},
     "output_type": "execute_result"
    }
   ],
   "source": [
    "np.sum(p)"
   ]
  },
  {
   "cell_type": "code",
   "execution_count": 68,
   "metadata": {
    "colab": {
     "base_uri": "https://localhost:8080/",
     "height": 194
    },
    "id": "-iM-Y3vDbaCZ",
    "outputId": "876afb7e-14bc-4db7-ca90-d5dfefc0abb6"
   },
   "outputs": [
    {
     "name": "stdout",
     "output_type": "stream",
     "text": [
      "0 ----- 2\n",
      "1 ----- 2\n",
      "2 ----- 2\n",
      "3 ----- 2\n",
      "4 ----- 2\n",
      "5 ----- 2\n",
      "6 ----- 2\n",
      "7 ----- 3\n",
      "8 ----- 3\n",
      "9 ----- 2\n"
     ]
    }
   ],
   "source": [
    "for i in range(10):\n",
    "    index = np.random.choice([0,1,2,3], p=p.ravel())\n",
    "    #p는 확률\n",
    "    #0을 0.1의 확률, 1을 0.0의 확률, 2를 0.7의 확률, 3을 0.2의 확률로 만들어줌\n",
    "    print(i, '-----', index)"
   ]
  },
  {
   "cell_type": "markdown",
   "metadata": {
    "id": "vx7hWkskcplD"
   },
   "source": [
    "This means that you will pick the 'index' according to the distribution:\\\n",
    "$P(index = 0) = 0.1, P(index = 1) = 0.0, P(index = 2) = 0.7, P(index = 3) = 0.2$"
   ]
  },
  {
   "cell_type": "code",
   "execution_count": null,
   "metadata": {
    "id": "TTkspHAPc-vh"
   },
   "outputs": [],
   "source": [
    "v = [0,0,0,0]\n",
    "ntest = 1000\n",
    "for i in range(ntest):\n",
    "    idx = np.random.choice([0,1,2,3], p=p.ravel())\n",
    "    v[idx]+=1"
   ]
  },
  {
   "cell_type": "code",
   "execution_count": null,
   "metadata": {
    "colab": {
     "base_uri": "https://localhost:8080/",
     "height": 34
    },
    "id": "H2cnQYsVdQD6",
    "outputId": "eaa6c1cc-a24f-47c4-eaa4-7751bd385901"
   },
   "outputs": [],
   "source": [
    "v"
   ]
  },
  {
   "cell_type": "markdown",
   "metadata": {
    "id": "b4YfhzQMdYQq"
   },
   "source": [
    "### np.random.permutation (순열)"
   ]
  },
  {
   "cell_type": "code",
   "execution_count": null,
   "metadata": {
    "colab": {
     "base_uri": "https://localhost:8080/",
     "height": 34
    },
    "id": "r1_dGQB9dbmi",
    "outputId": "60a47113-922b-4f8b-f87e-77d6399b1c47"
   },
   "outputs": [],
   "source": [
    "m1 = np.random.permutation(5) #random하게 숫자를 섞음\n",
    "print(m1)\n",
    "#permutation = 섞어 놓는다 (숫자에 열거)"
   ]
  },
  {
   "cell_type": "markdown",
   "metadata": {
    "id": "g1ktofvjdkj1"
   },
   "source": [
    "* array shuffle하기 (1차원)"
   ]
  },
  {
   "cell_type": "code",
   "execution_count": null,
   "metadata": {
    "id": "YC7mpfIYdf-K"
   },
   "outputs": [],
   "source": [
    "X = np.array([10,20,30,40,50])\n",
    "shuffled_X = X[m1]"
   ]
  },
  {
   "cell_type": "code",
   "execution_count": null,
   "metadata": {
    "colab": {
     "base_uri": "https://localhost:8080/",
     "height": 52
    },
    "id": "_nab7Sk4dyjg",
    "outputId": "4b3d95ba-a2fd-447d-d2dd-483f0ae103e4"
   },
   "outputs": [],
   "source": [
    "print(X)\n",
    "print(shuffled_X)"
   ]
  },
  {
   "cell_type": "code",
   "execution_count": null,
   "metadata": {
    "colab": {
     "base_uri": "https://localhost:8080/",
     "height": 34
    },
    "id": "dNDj-N8dd3hq",
    "outputId": "bd4126d1-9d32-477f-8f28-0428f8470f12"
   },
   "outputs": [],
   "source": [
    "X[np.random.permutation(5)]"
   ]
  },
  {
   "cell_type": "markdown",
   "metadata": {
    "id": "bp9gn5mteEa9"
   },
   "source": [
    "* array shuffle하기 (2차원)"
   ]
  },
  {
   "cell_type": "code",
   "execution_count": null,
   "metadata": {
    "id": "4dgO9TsHeIZD"
   },
   "outputs": [],
   "source": [
    "x1 = [2,4,8,10,20]\n",
    "x2 = [0.2, 0.4, -0.8, 1.0, -2.0]\n",
    "test_X = np.vstack((x1,x2))\n",
    "X = np.transpose(np.vstack((x1,x2)))\n",
    "#vstack 세로 방향으로 쌓음 (2,5)\n",
    "#transpose를 통해 (2,5)를 (5,2)로 바꿀 수 있음"
   ]
  },
  {
   "cell_type": "code",
   "execution_count": null,
   "metadata": {
    "colab": {
     "base_uri": "https://localhost:8080/",
     "height": 51
    },
    "id": "zM2YtpSDQUdX",
    "outputId": "764d722e-5044-4847-d68a-03d36d4fee9a"
   },
   "outputs": [],
   "source": [
    "test_X"
   ]
  },
  {
   "cell_type": "code",
   "execution_count": null,
   "metadata": {
    "colab": {
     "base_uri": "https://localhost:8080/",
     "height": 123
    },
    "id": "XdjSgpCteW3B",
    "outputId": "20e97a98-7011-4394-a752-a2f6463ec305"
   },
   "outputs": [],
   "source": [
    "print(X)\n",
    "print(X.shape)"
   ]
  },
  {
   "cell_type": "code",
   "execution_count": null,
   "metadata": {
    "colab": {
     "base_uri": "https://localhost:8080/",
     "height": 34
    },
    "id": "D-ip8_UMeaoT",
    "outputId": "af7ad662-9335-48d9-ff4a-3091159f4584"
   },
   "outputs": [],
   "source": [
    "permutation = np.random.permutation(5)\n",
    "print(permutation)"
   ]
  },
  {
   "cell_type": "code",
   "execution_count": null,
   "metadata": {
    "id": "XbWH57MpfQqS"
   },
   "outputs": [],
   "source": [
    "X_shuffle = X[permutation]"
   ]
  },
  {
   "cell_type": "code",
   "execution_count": null,
   "metadata": {
    "colab": {
     "base_uri": "https://localhost:8080/",
     "height": 105
    },
    "id": "xYum6gA8fWia",
    "outputId": "f2e99abc-bf25-4ac4-e480-ac66267825d0"
   },
   "outputs": [],
   "source": [
    "print(X_shuffle)\n",
    "#[2, 0.2]는 같이 붙어있음\n",
    "#1x1안의 형태는 셔플 되지 않고 한 줄(한 쌍)이 다른 줄(한 쌍)과 셔플 되는 것을 볼 수 있음"
   ]
  },
  {
   "cell_type": "markdown",
   "metadata": {
    "id": "YPn6fR8aJR5u"
   },
   "source": [
    "### 슬라이싱"
   ]
  },
  {
   "cell_type": "code",
   "execution_count": null,
   "metadata": {
    "id": "c-_Omx6kJYKo"
   },
   "outputs": [],
   "source": [
    "import numpy as np"
   ]
  },
  {
   "cell_type": "code",
   "execution_count": null,
   "metadata": {
    "colab": {
     "base_uri": "https://localhost:8080/",
     "height": 68
    },
    "id": "NMJT_7rVJWMV",
    "outputId": "a61f1782-07c7-4c4f-d33d-9d2b9ecc3fad"
   },
   "outputs": [],
   "source": [
    "a = np.array([[1,2,3],[3,4,5],[4,5,6]])\n",
    "print(a)"
   ]
  },
  {
   "cell_type": "code",
   "execution_count": null,
   "metadata": {
    "colab": {
     "base_uri": "https://localhost:8080/",
     "height": 34
    },
    "id": "hptBu2ejJdBH",
    "outputId": "8c2b6bf6-47e1-4022-b6d2-0e0f33b5a953"
   },
   "outputs": [],
   "source": [
    "a.shape"
   ]
  },
  {
   "cell_type": "code",
   "execution_count": null,
   "metadata": {
    "colab": {
     "base_uri": "https://localhost:8080/",
     "height": 34
    },
    "id": "oPQFkbzNJkK1",
    "outputId": "2d2efa8a-22f8-40bd-8d60-5279b7b9dc25"
   },
   "outputs": [],
   "source": [
    "#Retunrs array of items in the second column\n",
    "#열의 index 1번째 모두 출력(행은 모두)\n",
    "a[...,1]"
   ]
  },
  {
   "cell_type": "code",
   "execution_count": null,
   "metadata": {
    "colab": {
     "base_uri": "https://localhost:8080/",
     "height": 34
    },
    "id": "gqdYsozfJpws",
    "outputId": "a0d688de-b919-41a1-b8fd-3252df2e43d9"
   },
   "outputs": [],
   "source": [
    "#Will Slice all items from the second row\n",
    "a[1,...]"
   ]
  },
  {
   "cell_type": "code",
   "execution_count": null,
   "metadata": {
    "colab": {
     "base_uri": "https://localhost:8080/",
     "height": 68
    },
    "id": "T7rulmdYKA5M",
    "outputId": "78b1b889-b5b5-4a0d-ed03-9601ff82906c"
   },
   "outputs": [],
   "source": [
    "#Will slice all items from column 1 onwards\n",
    "#행은 전체, 열은 index 1부터 끝까지 출력\n",
    "a[...,1:]"
   ]
  },
  {
   "cell_type": "code",
   "execution_count": null,
   "metadata": {
    "colab": {
     "base_uri": "https://localhost:8080/",
     "height": 51
    },
    "id": "zz07fdE1KJkR",
    "outputId": "3114b608-ed69-492b-d2af-1a6c1224a562"
   },
   "outputs": [],
   "source": [
    "#Slicing using advanced index for column\n",
    "#전체 행 index1,2에서 index[1,2]만 뽑기\n",
    "a[1:3,[1,2]]"
   ]
  }
 ],
 "metadata": {
  "colab": {
   "collapsed_sections": [],
   "name": "03-HelloNumpy - Jupyter Notebook",
   "provenance": []
  },
  "kernelspec": {
   "display_name": "Python 3",
   "language": "python",
   "name": "python3"
  },
  "language_info": {
   "codemirror_mode": {
    "name": "ipython",
    "version": 3
   },
   "file_extension": ".py",
   "mimetype": "text/x-python",
   "name": "python",
   "nbconvert_exporter": "python",
   "pygments_lexer": "ipython3",
   "version": "3.6.9"
  }
 },
 "nbformat": 4,
 "nbformat_minor": 1
}
