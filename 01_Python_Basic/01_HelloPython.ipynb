{
  "nbformat": 4,
  "nbformat_minor": 0,
  "metadata": {
    "colab": {
      "name": "01-HelloPython - Jupyter Notebook",
      "provenance": [],
      "collapsed_sections": []
    },
    "kernelspec": {
      "name": "python3",
      "display_name": "Python 3"
    }
  },
  "cells": [
    {
      "cell_type": "markdown",
      "metadata": {
        "id": "2Dsnr0nW_sxa"
      },
      "source": [
        "###Python tutorial #1"
      ]
    },
    {
      "cell_type": "markdown",
      "metadata": {
        "id": "F2hS9fXXIakx"
      },
      "source": [
        "https://github.com/dalek7/Undergrad-DeepLearning-20Fall/blob/master/01_Python-basic/01-HelloPython.ipynb"
      ]
    },
    {
      "cell_type": "markdown",
      "metadata": {
        "id": "MQr3m7r1Ia3A"
      },
      "source": [
        "###Hello World!"
      ]
    },
    {
      "cell_type": "code",
      "metadata": {
        "id": "F8OVmEsAIi4b",
        "outputId": "6a63de19-6bc3-46d6-f87a-91d317e356a5",
        "colab": {
          "base_uri": "https://localhost:8080/",
          "height": 51
        }
      },
      "source": [
        "print('Hello World')\n",
        "print('Hello World {} + {} = {}'.format(2,3,2+3))"
      ],
      "execution_count": null,
      "outputs": [
        {
          "output_type": "stream",
          "text": [
            "Hello World\n",
            "Hello World 2 + 3 = 5\n"
          ],
          "name": "stdout"
        }
      ]
    },
    {
      "cell_type": "markdown",
      "metadata": {
        "id": "Ex7KQv-oIWzl"
      },
      "source": [
        "###Basic data types"
      ]
    },
    {
      "cell_type": "code",
      "metadata": {
        "id": "yi5I8gIJ_osH",
        "outputId": "d9665f66-223c-4832-fefa-3297a8764746",
        "colab": {
          "base_uri": "https://localhost:8080/",
          "height": 52
        }
      },
      "source": [
        "x = 3\n",
        "print(type(x)) # prints \"<class 'int'>\"\n",
        "print(x)"
      ],
      "execution_count": null,
      "outputs": [
        {
          "output_type": "stream",
          "text": [
            "<class 'int'>\n",
            "3\n"
          ],
          "name": "stdout"
        }
      ]
    },
    {
      "cell_type": "code",
      "metadata": {
        "id": "T4pcukJkB_SM",
        "outputId": "f1b61b0f-329d-4708-a244-15ff002db9a8",
        "colab": {
          "base_uri": "https://localhost:8080/",
          "height": 87
        }
      },
      "source": [
        "print(x+1) #Addition; prints \"4\"\n",
        "print(x-1) #Subtraction; prints \"2\"\n",
        "print(x*2) #Multiplication; prints \"6\"\n",
        "print(x**2) #Exponentiation; prints \"9\""
      ],
      "execution_count": null,
      "outputs": [
        {
          "output_type": "stream",
          "text": [
            "4\n",
            "2\n",
            "6\n",
            "9\n"
          ],
          "name": "stdout"
        }
      ]
    },
    {
      "cell_type": "markdown",
      "metadata": {
        "id": "v9CKvG4HCR3N"
      },
      "source": [
        "###For statement"
      ]
    },
    {
      "cell_type": "markdown",
      "metadata": {
        "id": "zjPxTgwDCX7Q"
      },
      "source": [
        "range: 영역을 설정"
      ]
    },
    {
      "cell_type": "code",
      "metadata": {
        "id": "K3mVeifYCZQG",
        "outputId": "8d716930-8b8c-48f8-de88-2271ee6003fb",
        "colab": {
          "base_uri": "https://localhost:8080/",
          "height": 34
        }
      },
      "source": [
        "A=range(5)\n",
        "print(A)"
      ],
      "execution_count": null,
      "outputs": [
        {
          "output_type": "stream",
          "text": [
            "range(0, 5)\n"
          ],
          "name": "stdout"
        }
      ]
    },
    {
      "cell_type": "markdown",
      "metadata": {
        "id": "vUbItaktCeLq"
      },
      "source": [
        "* A의 세번째 요소를 출력"
      ]
    },
    {
      "cell_type": "code",
      "metadata": {
        "id": "xorVxMhACcoq",
        "outputId": "0d8a167c-8959-40fe-fa84-f3c72987eb12",
        "colab": {
          "base_uri": "https://localhost:8080/",
          "height": 34
        }
      },
      "source": [
        "print(A[2])"
      ],
      "execution_count": null,
      "outputs": [
        {
          "output_type": "stream",
          "text": [
            "2\n"
          ],
          "name": "stdout"
        }
      ]
    },
    {
      "cell_type": "code",
      "metadata": {
        "id": "IXh5MIr2CjFm",
        "outputId": "c79f4164-68fa-468f-bb20-5671fde3ffac",
        "colab": {
          "base_uri": "https://localhost:8080/",
          "height": 105
        }
      },
      "source": [
        "for i in range(5) :\n",
        "  #print(i,A[i])\n",
        "  print('{} ----- {}'.format(i, A[i]))"
      ],
      "execution_count": null,
      "outputs": [
        {
          "output_type": "stream",
          "text": [
            "0 ----- 0\n",
            "1 ----- 1\n",
            "2 ----- 2\n",
            "3 ----- 3\n",
            "4 ----- 4\n"
          ],
          "name": "stdout"
        }
      ]
    },
    {
      "cell_type": "markdown",
      "metadata": {
        "id": "ufruj9Y6Cx41"
      },
      "source": [
        "**Excersise**"
      ]
    },
    {
      "cell_type": "code",
      "metadata": {
        "id": "BMMlnHorCzzQ",
        "outputId": "9222559b-4931-4b99-f71d-fbfb935324f4",
        "colab": {
          "base_uri": "https://localhost:8080/",
          "height": 176
        }
      },
      "source": [
        "for i in range(9):\n",
        "  print('{} x {} = {}'.format(2, i, 2*i))"
      ],
      "execution_count": null,
      "outputs": [
        {
          "output_type": "stream",
          "text": [
            "2 x 0 = 0\n",
            "2 x 1 = 2\n",
            "2 x 2 = 4\n",
            "2 x 3 = 6\n",
            "2 x 4 = 8\n",
            "2 x 5 = 10\n",
            "2 x 6 = 12\n",
            "2 x 7 = 14\n",
            "2 x 8 = 16\n"
          ],
          "name": "stdout"
        }
      ]
    },
    {
      "cell_type": "markdown",
      "metadata": {
        "id": "WgsXnLu4DAAQ"
      },
      "source": [
        "###Operators"
      ]
    },
    {
      "cell_type": "code",
      "metadata": {
        "id": "lYg3LuLYDBXf",
        "outputId": "6234d50e-4b0b-4904-e577-c1c2996661ee",
        "colab": {
          "base_uri": "https://localhost:8080/",
          "height": 70
        }
      },
      "source": [
        "print((1,2,3)*3)\n",
        "print([1,2,3]*3)\n",
        "print(\"Hello \"*3)"
      ],
      "execution_count": null,
      "outputs": [
        {
          "output_type": "stream",
          "text": [
            "(1, 2, 3, 1, 2, 3, 1, 2, 3)\n",
            "[1, 2, 3, 1, 2, 3, 1, 2, 3]\n",
            "Hello Hello Hello \n"
          ],
          "name": "stdout"
        }
      ]
    },
    {
      "cell_type": "markdown",
      "metadata": {
        "id": "tWm06LbOGO5V"
      },
      "source": [
        "###Containers"
      ]
    },
    {
      "cell_type": "markdown",
      "metadata": {
        "id": "vtkcJtYNGRT8"
      },
      "source": [
        "Python includes several built-in container types: lists, dictionaries, sets, and tuples."
      ]
    },
    {
      "cell_type": "markdown",
      "metadata": {
        "id": "H9pgyFeCGU5Y"
      },
      "source": [
        "###Tuple"
      ]
    },
    {
      "cell_type": "markdown",
      "metadata": {
        "id": "4gIk7h2UGXAO"
      },
      "source": [
        "A simple immutable (변경할 수 없는, 불변의) ordered sequence of items\n"
      ]
    },
    {
      "cell_type": "code",
      "metadata": {
        "id": "UAT1E4oEGQQ8",
        "outputId": "bd11abb1-07e8-4e67-c42d-86666b4f9588",
        "colab": {
          "base_uri": "https://localhost:8080/",
          "height": 52
        }
      },
      "source": [
        "# -*- coding: utf-8 -*-\n",
        "# creating a tuple\n",
        "months = ('January','February','March','April','May','June',\\\n",
        "'July','August','September','October','November','December')\n",
        "print(months[0])\n",
        "print(\"index of 7 ==> \" , months[7])"
      ],
      "execution_count": null,
      "outputs": [
        {
          "output_type": "stream",
          "text": [
            "January\n",
            "index of 7 ==>  August\n"
          ],
          "name": "stdout"
        }
      ]
    },
    {
      "cell_type": "markdown",
      "metadata": {
        "id": "opICDXtSGfw6"
      },
      "source": [
        "하나씩 출력하기"
      ]
    },
    {
      "cell_type": "code",
      "metadata": {
        "id": "tci63KsZGcGW",
        "outputId": "49c6979d-1fdb-4f63-9887-fac21ea75663",
        "colab": {
          "base_uri": "https://localhost:8080/",
          "height": 230
        }
      },
      "source": [
        "# iterate through them:\n",
        "for item in months:\n",
        " print (item)"
      ],
      "execution_count": null,
      "outputs": [
        {
          "output_type": "stream",
          "text": [
            "January\n",
            "February\n",
            "March\n",
            "April\n",
            "May\n",
            "June\n",
            "July\n",
            "August\n",
            "September\n",
            "October\n",
            "November\n",
            "December\n"
          ],
          "name": "stdout"
        }
      ]
    },
    {
      "cell_type": "code",
      "metadata": {
        "id": "smcOFlh7GiS5",
        "outputId": "8586cf37-382c-4fec-c6ef-cf39483883b6",
        "colab": {
          "base_uri": "https://localhost:8080/",
          "height": 141
        }
      },
      "source": [
        "t = ('john', 32, (2,3,4,5), 'hello')\n",
        "print(t)\n",
        "print(t[2])\n",
        "print(t[2][1])\n",
        "print(t[:2]) # index 포함 X, index0,1만 출력(2제외)\n",
        "print(t[2:]) # index 포함 O, index2부터 끝까지 출력\n",
        "print(t[-1]) # index의 마지막 출력, -는 0부터가 아니고 1부터 시작\n",
        "print(t[-2]) "
      ],
      "execution_count": null,
      "outputs": [
        {
          "output_type": "stream",
          "text": [
            "('john', 32, (2, 3, 4, 5), 'hello')\n",
            "(2, 3, 4, 5)\n",
            "3\n",
            "('john', 32)\n",
            "((2, 3, 4, 5), 'hello')\n",
            "hello\n",
            "(2, 3, 4, 5)\n"
          ],
          "name": "stdout"
        }
      ]
    },
    {
      "cell_type": "markdown",
      "metadata": {
        "id": "Ft5kJdLTG9fA"
      },
      "source": [
        "###List"
      ]
    },
    {
      "cell_type": "markdown",
      "metadata": {
        "id": "hR-_ivBlG_Ov"
      },
      "source": [
        "Mutable (바꿀수 있는, 변경가능한) ordered sequence of items of mixed types"
      ]
    },
    {
      "cell_type": "code",
      "metadata": {
        "id": "0huZZMjUG-ob",
        "outputId": "72e38b50-11f1-486f-c1d3-2e98c18f5bad",
        "colab": {
          "base_uri": "https://localhost:8080/",
          "height": 34
        }
      },
      "source": [
        "li = ['hallym', 1, 3.141572, 'hello']\n",
        "print(li)"
      ],
      "execution_count": null,
      "outputs": [
        {
          "output_type": "stream",
          "text": [
            "['hallym', 1, 3.141572, 'hello']\n"
          ],
          "name": "stdout"
        }
      ]
    },
    {
      "cell_type": "code",
      "metadata": {
        "id": "pwcVx4s5HCPW",
        "outputId": "fa1b4bac-edf3-4fe3-8b6e-47e5e5848e96",
        "colab": {
          "base_uri": "https://localhost:8080/",
          "height": 34
        }
      },
      "source": [
        "li[1] = 45 #li[1], 즉 index 1번을 45로 변경\n",
        "print(li)"
      ],
      "execution_count": null,
      "outputs": [
        {
          "output_type": "stream",
          "text": [
            "['hallym', 45, 3.141572, 'hello']\n"
          ],
          "name": "stdout"
        }
      ]
    },
    {
      "cell_type": "markdown",
      "metadata": {
        "id": "Amikq7wpHM_Y"
      },
      "source": [
        "리스트에 새로운 것이 뒤에 붙은 것 (append)을 확인 가능"
      ]
    },
    {
      "cell_type": "markdown",
      "metadata": {
        "id": "2Gu-OBNiHO7_"
      },
      "source": [
        "* 비어있는 리스트 만들기"
      ]
    },
    {
      "cell_type": "code",
      "metadata": {
        "id": "v0x_yIW1HIL3"
      },
      "source": [
        "v = []"
      ],
      "execution_count": null,
      "outputs": []
    },
    {
      "cell_type": "markdown",
      "metadata": {
        "id": "107GUlmhHR-8"
      },
      "source": [
        "* 비어있는 리스트에 값 추가하기"
      ]
    },
    {
      "cell_type": "code",
      "metadata": {
        "id": "BS75oOCSHRMc",
        "outputId": "0d482607-332e-421a-d670-a9d9ade10a22",
        "colab": {
          "base_uri": "https://localhost:8080/",
          "height": 70
        }
      },
      "source": [
        "for i in range(0,3): #0부터 2까지\n",
        " v.append(i*5)\n",
        " print(i, v)\n",
        " #i=0, v=0\n",
        " #i=1, v=5\n",
        " #i=2, v=10"
      ],
      "execution_count": null,
      "outputs": [
        {
          "output_type": "stream",
          "text": [
            "0 [0]\n",
            "1 [0, 5]\n",
            "2 [0, 5, 10]\n"
          ],
          "name": "stdout"
        }
      ]
    },
    {
      "cell_type": "markdown",
      "metadata": {
        "id": "8PfuG7CMHlJS"
      },
      "source": [
        "###+ 연산자"
      ]
    },
    {
      "cell_type": "code",
      "metadata": {
        "id": "0CndIMfYHj8S",
        "outputId": "ebe69aa0-1760-4c2d-e448-232f7f14319f",
        "colab": {
          "base_uri": "https://localhost:8080/",
          "height": 70
        }
      },
      "source": [
        "print((1, 2, 3) + (4, 5, 6))\n",
        "print([1, 2, 3] + [4, 5, 6])\n",
        "print(\"Hello\" + \" \" + \"World\")"
      ],
      "execution_count": null,
      "outputs": [
        {
          "output_type": "stream",
          "text": [
            "(1, 2, 3, 4, 5, 6)\n",
            "[1, 2, 3, 4, 5, 6]\n",
            "Hello World\n"
          ],
          "name": "stdout"
        }
      ]
    },
    {
      "cell_type": "markdown",
      "metadata": {
        "id": "6j9UE5XPIUp9"
      },
      "source": [
        "###* 연산자"
      ]
    },
    {
      "cell_type": "markdown",
      "metadata": {
        "id": "szJB1akeIXLX"
      },
      "source": [
        "The * operator produces a new tuple, list, or string that \"repeats\" the original content.\n",
        "\n",
        "\n"
      ]
    },
    {
      "cell_type": "code",
      "metadata": {
        "id": "GSg4OHO4IaVv",
        "outputId": "f5104f00-1f7b-43dd-bbb1-d78b8324c055",
        "colab": {
          "base_uri": "https://localhost:8080/",
          "height": 52
        }
      },
      "source": [
        "y = 2.5\n",
        "print(type(y)) # Prints \"<class 'float'>\"\n",
        "print(y, y + 1, y * 2, y ** 2) # Prints \"2.5 3.5 5.0 6.25\""
      ],
      "execution_count": null,
      "outputs": [
        {
          "output_type": "stream",
          "text": [
            "<class 'float'>\n",
            "2.5 3.5 5.0 6.25\n"
          ],
          "name": "stdout"
        }
      ]
    },
    {
      "cell_type": "markdown",
      "metadata": {
        "id": "p2yyzln8IeUA"
      },
      "source": [
        "###Enumeration (열거하기)"
      ]
    },
    {
      "cell_type": "code",
      "metadata": {
        "id": "GPS8VbJKIc5x",
        "outputId": "d9846f83-27ba-41a2-9f51-b6c29af13f00",
        "colab": {
          "base_uri": "https://localhost:8080/",
          "height": 70
        }
      },
      "source": [
        "for i, val in enumerate(v):\n",
        " print('{} ---> {}'.format(i, val))"
      ],
      "execution_count": null,
      "outputs": [
        {
          "output_type": "stream",
          "text": [
            "0 ---> 0\n",
            "1 ---> 5\n",
            "2 ---> 10\n"
          ],
          "name": "stdout"
        }
      ]
    },
    {
      "cell_type": "code",
      "metadata": {
        "id": "WbnybXbvIiBm",
        "outputId": "a611e37c-3c44-4cd3-fc5a-8bd000ad5aa1",
        "colab": {
          "base_uri": "https://localhost:8080/",
          "height": 34
        }
      },
      "source": [
        "v2 = [ 'A', 'B', 'C', '0', '1', '2', '3']\n",
        "print(v2)"
      ],
      "execution_count": null,
      "outputs": [
        {
          "output_type": "stream",
          "text": [
            "['A', 'B', 'C', '0', '1', '2', '3']\n"
          ],
          "name": "stdout"
        }
      ]
    },
    {
      "cell_type": "code",
      "metadata": {
        "id": "aJUKJBx1Iu4N",
        "outputId": "96e6ba51-f58b-44b2-abe9-692a8f06c054",
        "colab": {
          "base_uri": "https://localhost:8080/",
          "height": 141
        }
      },
      "source": [
        "for i, val in enumerate(v2):\n",
        " print('{} ---> {}'.format(i, val))"
      ],
      "execution_count": null,
      "outputs": [
        {
          "output_type": "stream",
          "text": [
            "0 ---> A\n",
            "1 ---> B\n",
            "2 ---> C\n",
            "3 ---> 0\n",
            "4 ---> 1\n",
            "5 ---> 2\n",
            "6 ---> 3\n"
          ],
          "name": "stdout"
        }
      ]
    },
    {
      "cell_type": "markdown",
      "metadata": {
        "id": "l1gb2boXGgA7"
      },
      "source": [
        "###List comprehension (LC)"
      ]
    },
    {
      "cell_type": "markdown",
      "metadata": {
        "id": "pOEFibM3H6MY"
      },
      "source": [
        "List comprehensions provide a concise way to create lists."
      ]
    },
    {
      "cell_type": "code",
      "metadata": {
        "id": "tkDSMXk6HbB8"
      },
      "source": [
        "squares = []\n",
        "for x in range(10):\n",
        "  squares.append(x**2)"
      ],
      "execution_count": null,
      "outputs": []
    },
    {
      "cell_type": "code",
      "metadata": {
        "id": "sXkbB87xIEVu",
        "outputId": "b92a96b9-c867-4d6d-b835-743ac0939611",
        "colab": {
          "base_uri": "https://localhost:8080/",
          "height": 34
        }
      },
      "source": [
        "print(squares)"
      ],
      "execution_count": null,
      "outputs": [
        {
          "output_type": "stream",
          "text": [
            "[0, 1, 4, 9, 16, 25, 36, 49, 64, 81]\n"
          ],
          "name": "stdout"
        }
      ]
    },
    {
      "cell_type": "markdown",
      "metadata": {
        "id": "lRIsVgLrIJ1O"
      },
      "source": [
        "or, equivalently:"
      ]
    },
    {
      "cell_type": "code",
      "metadata": {
        "id": "HmzpEjbsIFoD"
      },
      "source": [
        "squares = [x**2 for x in range(10)]"
      ],
      "execution_count": null,
      "outputs": []
    },
    {
      "cell_type": "code",
      "metadata": {
        "id": "kDU_zjE5IvO2",
        "outputId": "0a99de2c-a492-4d9a-ecb6-4b221f80ddcc",
        "colab": {
          "base_uri": "https://localhost:8080/",
          "height": 34
        }
      },
      "source": [
        "print(squares)"
      ],
      "execution_count": null,
      "outputs": [
        {
          "output_type": "stream",
          "text": [
            "[0, 1, 4, 9, 16, 25, 36, 49, 64, 81]\n"
          ],
          "name": "stdout"
        }
      ]
    },
    {
      "cell_type": "code",
      "metadata": {
        "id": "OXidcVldIwfU",
        "outputId": "87c988a6-41d6-458d-cd00-4c9c6f11278a",
        "colab": {
          "base_uri": "https://localhost:8080/",
          "height": 34
        }
      },
      "source": [
        "word = '메롱'\n",
        "print([c*2 for c in word])"
      ],
      "execution_count": null,
      "outputs": [
        {
          "output_type": "stream",
          "text": [
            "['메메', '롱롱']\n"
          ],
          "name": "stdout"
        }
      ]
    },
    {
      "cell_type": "code",
      "metadata": {
        "id": "GA850bhXI0PG"
      },
      "source": [
        "A = [n for n in range(10) if n%2==0]"
      ],
      "execution_count": null,
      "outputs": []
    },
    {
      "cell_type": "code",
      "metadata": {
        "id": "RDsEOAD8I6Dj",
        "outputId": "91866674-3c57-4538-f138-b8512a3ae07d",
        "colab": {
          "base_uri": "https://localhost:8080/",
          "height": 34
        }
      },
      "source": [
        "print(A) #LC에서 조건문을 통해 특정 값들을 필터링 할 수 있다"
      ],
      "execution_count": null,
      "outputs": [
        {
          "output_type": "stream",
          "text": [
            "[0, 2, 4, 6, 8]\n"
          ],
          "name": "stdout"
        }
      ]
    },
    {
      "cell_type": "markdown",
      "metadata": {
        "id": "9ef9zpjyI-lo"
      },
      "source": [
        "참고\n",
        "* Python Data Structures, https://docs.python.org/3/tutorial/datastructures.html"
      ]
    }
  ]
}