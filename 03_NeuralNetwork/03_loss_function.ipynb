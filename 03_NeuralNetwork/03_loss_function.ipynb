{
 "cells": [
  {
   "cell_type": "code",
   "execution_count": 1,
   "metadata": {},
   "outputs": [],
   "source": [
    "import numpy as np"
   ]
  },
  {
   "cell_type": "markdown",
   "metadata": {},
   "source": [
    "### Mean Square Error (MSE)"
   ]
  },
  {
   "cell_type": "markdown",
   "metadata": {},
   "source": [
    "$$ MSE={\\frac {1}{2}}\\sum _{{i}}^{}({{y_{i}}}-t_{i})^{2} $$\n",
    "\n",
    "y = 신경망 출력, t = 정답 레이블, i = 데이터 차원 수 "
   ]
  },
  {
   "cell_type": "code",
   "execution_count": 2,
   "metadata": {},
   "outputs": [],
   "source": [
    "def MSE(y, t):\n",
    "    loss = 0.5 * np.sum((y-t)**2)\n",
    "    return loss"
   ]
  },
  {
   "cell_type": "code",
   "execution_count": 3,
   "metadata": {},
   "outputs": [],
   "source": [
    "t = [ 0, 0, 1, 0, 0, 0, 0, 0, 0, 0]\n",
    "\n",
    "y1 = [0.2, 0.01, 0.5, 0.0, 0.02, 0.01, 0.0, 0.15, 0.1, 0.02]\n",
    "y2 = [0.2, 0.01, 0.0, 0.5, 0.02, 0.01, 0.0, 0.15, 0.1, 0.02]"
   ]
  },
  {
   "cell_type": "code",
   "execution_count": 4,
   "metadata": {},
   "outputs": [],
   "source": [
    "loss1 = MSE(np.array(t), np.array(y1))\n",
    "loss2 = MSE(np.array(t), np.array(y2))"
   ]
  },
  {
   "cell_type": "code",
   "execution_count": 5,
   "metadata": {},
   "outputs": [
    {
     "name": "stdout",
     "output_type": "stream",
     "text": [
      "0.16175000000000003\n",
      "0.66175\n"
     ]
    }
   ],
   "source": [
    "print(loss1) #0.16175000000000003\n",
    "print(loss2) #0.66175 \n",
    "#0.5가 index 3번째 있는 것이 오류가 더 크게 난다는 의미"
   ]
  },
  {
   "cell_type": "markdown",
   "metadata": {},
   "source": [
    "### 교차 엔트로피 오차: Cross Entropy Error"
   ]
  },
  {
   "cell_type": "markdown",
   "metadata": {},
   "source": [
    "$$ CEE=-\\sum _{{i}}^{}{{t_{i}}}\\log y_{i} $$\n",
    "\n",
    "y = 신경망 출력, t = 정답 레이블, i = 데이터 차원 수 "
   ]
  },
  {
   "cell_type": "code",
   "execution_count": 6,
   "metadata": {},
   "outputs": [],
   "source": [
    "def CEE(y, t):\n",
    "    epsilon = 0.00000001\n",
    "    v_temp = t * np.log(y + epsilon)\n",
    "    loss = -np.sum(v_temp)\n",
    "    return loss"
   ]
  },
  {
   "cell_type": "code",
   "execution_count": 7,
   "metadata": {},
   "outputs": [],
   "source": [
    "t  = [ 0, 1]\n",
    "\n",
    "y1 = [ 0.2, 0.8]\n",
    "y2 = [ 0.8, 0.2]\n",
    "y3 = [ 0.1, 0.9]"
   ]
  },
  {
   "cell_type": "markdown",
   "metadata": {},
   "source": [
    "- TODO: 아래처럼 loss를 출력해보세요"
   ]
  },
  {
   "cell_type": "code",
   "execution_count": 8,
   "metadata": {},
   "outputs": [
    {
     "name": "stdout",
     "output_type": "stream",
     "text": [
      "3.684136140790474\n",
      "14.736544593161895\n",
      "1.842068065395237\n"
     ]
    }
   ],
   "source": [
    "### START CODE HERE ###\n",
    "loss1 = CEE(np.array(t), np.array(y1))\n",
    "loss2 = CEE(np.array(t), np.array(y2))      \n",
    "loss3 = CEE(np.array(t), np.array(y3))\n",
    "    \n",
    "### END CODE HERE ###\n",
    "print(loss1)\n",
    "print(loss2)\n",
    "print(loss3)"
   ]
  },
  {
   "cell_type": "markdown",
   "metadata": {},
   "source": [
    "**Expected Output:**\n",
    "\n",
    "loss1 = 3.684136140790474\\\n",
    "loss2 = 14.736544593161895\\\n",
    "loss3 = 1.842068065395237"
   ]
  }
 ],
 "metadata": {
  "kernelspec": {
   "display_name": "Python 3",
   "language": "python",
   "name": "python3"
  },
  "language_info": {
   "codemirror_mode": {
    "name": "ipython",
    "version": 3
   },
   "file_extension": ".py",
   "mimetype": "text/x-python",
   "name": "python",
   "nbconvert_exporter": "python",
   "pygments_lexer": "ipython3",
   "version": "3.6.9"
  }
 },
 "nbformat": 4,
 "nbformat_minor": 4
}
